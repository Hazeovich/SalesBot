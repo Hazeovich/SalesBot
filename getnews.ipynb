{
 "cells": [
  {
   "cell_type": "code",
   "execution_count": 1,
   "metadata": {},
   "outputs": [],
   "source": [
    "import pandas as pd\n",
    "import requests\n",
    "from datetime import datetime, date\n",
    "import os"
   ]
  },
  {
   "cell_type": "code",
   "execution_count": 2,
   "metadata": {},
   "outputs": [],
   "source": [
    "APIKEY = None\n",
    "with open('apikey.txt', 'r') as _apikey:\n",
    "    APIKEY = _apikey.read()\n",
    "    _apikey.close()"
   ]
  },
  {
   "cell_type": "code",
   "execution_count": 3,
   "metadata": {},
   "outputs": [],
   "source": [
    "API_URL_PRICE_DAILY = f\"https://www.alphavantage.co/query?function=FX_DAILY&from_symbol=EUR&to_symbol=USD&outputsize=full&apikey={APIKEY}\"\n",
    "\n",
    "with requests.Session() as s:\n",
    "    download = s.get(API_URL_PRICE_DAILY)\n",
    "    df_price = pd.DataFrame(download.json()['Time Series FX (Daily)']).T\n",
    "    df_price.columns = [i.split()[1] for i in df_price.columns.values]\n",
    "    df_price.sort_index(inplace=True)\n",
    "    \n",
    "df_price.to_csv(f\"data/APLHAVANTAGE_AAPL.csv\")\n",
    "df_price.reset_index(names='date', inplace=True)\n",
    "df_price['date'] = pd.to_datetime(df_price['date'], format=\"%Y-%m-%d\")"
   ]
  },
  {
   "cell_type": "code",
   "execution_count": 4,
   "metadata": {},
   "outputs": [],
   "source": [
    "start_date = pd.Timestamp(year=2020, month=1, day=1)\n",
    "end_date = pd.Timestamp(year=2020, month=12, day=31)"
   ]
  },
  {
   "cell_type": "code",
   "execution_count": 5,
   "metadata": {},
   "outputs": [
    {
     "data": {
      "text/html": [
       "<div>\n",
       "<style scoped>\n",
       "    .dataframe tbody tr th:only-of-type {\n",
       "        vertical-align: middle;\n",
       "    }\n",
       "\n",
       "    .dataframe tbody tr th {\n",
       "        vertical-align: top;\n",
       "    }\n",
       "\n",
       "    .dataframe thead th {\n",
       "        text-align: right;\n",
       "    }\n",
       "</style>\n",
       "<table border=\"1\" class=\"dataframe\">\n",
       "  <thead>\n",
       "    <tr style=\"text-align: right;\">\n",
       "      <th></th>\n",
       "      <th>date</th>\n",
       "      <th>open</th>\n",
       "      <th>high</th>\n",
       "      <th>low</th>\n",
       "      <th>close</th>\n",
       "    </tr>\n",
       "  </thead>\n",
       "  <tbody>\n",
       "    <tr>\n",
       "      <th>0</th>\n",
       "      <td>2020-01-01</td>\n",
       "      <td>1.12123</td>\n",
       "      <td>1.12214</td>\n",
       "      <td>1.12080</td>\n",
       "      <td>1.12145</td>\n",
       "    </tr>\n",
       "    <tr>\n",
       "      <th>1</th>\n",
       "      <td>2020-01-02</td>\n",
       "      <td>1.12145</td>\n",
       "      <td>1.12245</td>\n",
       "      <td>1.11620</td>\n",
       "      <td>1.11713</td>\n",
       "    </tr>\n",
       "    <tr>\n",
       "      <th>2</th>\n",
       "      <td>2020-01-03</td>\n",
       "      <td>1.11713</td>\n",
       "      <td>1.11800</td>\n",
       "      <td>1.11230</td>\n",
       "      <td>1.11598</td>\n",
       "    </tr>\n",
       "    <tr>\n",
       "      <th>3</th>\n",
       "      <td>2020-01-06</td>\n",
       "      <td>1.11596</td>\n",
       "      <td>1.12055</td>\n",
       "      <td>1.11550</td>\n",
       "      <td>1.11955</td>\n",
       "    </tr>\n",
       "    <tr>\n",
       "      <th>4</th>\n",
       "      <td>2020-01-07</td>\n",
       "      <td>1.11956</td>\n",
       "      <td>1.11976</td>\n",
       "      <td>1.11320</td>\n",
       "      <td>1.11477</td>\n",
       "    </tr>\n",
       "    <tr>\n",
       "      <th>...</th>\n",
       "      <td>...</td>\n",
       "      <td>...</td>\n",
       "      <td>...</td>\n",
       "      <td>...</td>\n",
       "      <td>...</td>\n",
       "    </tr>\n",
       "    <tr>\n",
       "      <th>257</th>\n",
       "      <td>2020-12-25</td>\n",
       "      <td>1.21836</td>\n",
       "      <td>1.22050</td>\n",
       "      <td>1.21610</td>\n",
       "      <td>1.21832</td>\n",
       "    </tr>\n",
       "    <tr>\n",
       "      <th>258</th>\n",
       "      <td>2020-12-28</td>\n",
       "      <td>1.21832</td>\n",
       "      <td>1.22504</td>\n",
       "      <td>1.21794</td>\n",
       "      <td>1.22160</td>\n",
       "    </tr>\n",
       "    <tr>\n",
       "      <th>259</th>\n",
       "      <td>2020-12-29</td>\n",
       "      <td>1.22140</td>\n",
       "      <td>1.22753</td>\n",
       "      <td>1.22057</td>\n",
       "      <td>1.22475</td>\n",
       "    </tr>\n",
       "    <tr>\n",
       "      <th>260</th>\n",
       "      <td>2020-12-30</td>\n",
       "      <td>1.22476</td>\n",
       "      <td>1.23101</td>\n",
       "      <td>1.22435</td>\n",
       "      <td>1.22960</td>\n",
       "    </tr>\n",
       "    <tr>\n",
       "      <th>261</th>\n",
       "      <td>2020-12-31</td>\n",
       "      <td>1.22949</td>\n",
       "      <td>1.23093</td>\n",
       "      <td>1.22070</td>\n",
       "      <td>1.22138</td>\n",
       "    </tr>\n",
       "  </tbody>\n",
       "</table>\n",
       "<p>262 rows × 5 columns</p>\n",
       "</div>"
      ],
      "text/plain": [
       "          date     open     high      low    close\n",
       "0   2020-01-01  1.12123  1.12214  1.12080  1.12145\n",
       "1   2020-01-02  1.12145  1.12245  1.11620  1.11713\n",
       "2   2020-01-03  1.11713  1.11800  1.11230  1.11598\n",
       "3   2020-01-06  1.11596  1.12055  1.11550  1.11955\n",
       "4   2020-01-07  1.11956  1.11976  1.11320  1.11477\n",
       "..         ...      ...      ...      ...      ...\n",
       "257 2020-12-25  1.21836  1.22050  1.21610  1.21832\n",
       "258 2020-12-28  1.21832  1.22504  1.21794  1.22160\n",
       "259 2020-12-29  1.22140  1.22753  1.22057  1.22475\n",
       "260 2020-12-30  1.22476  1.23101  1.22435  1.22960\n",
       "261 2020-12-31  1.22949  1.23093  1.22070  1.22138\n",
       "\n",
       "[262 rows x 5 columns]"
      ]
     },
     "execution_count": 5,
     "metadata": {},
     "output_type": "execute_result"
    }
   ],
   "source": [
    "df_one_year = df_price[((df_price['date'] >= start_date) & (df_price['date'] <= end_date))].reset_index(drop=True)\n",
    "df_one_year"
   ]
  },
  {
   "cell_type": "code",
   "execution_count": 6,
   "metadata": {},
   "outputs": [],
   "source": [
    "dates = df_one_year.date.values\n",
    "dates_for_news = [str(i).replace('-','')[:9] + '0000' for i in dates]"
   ]
  },
  {
   "cell_type": "code",
   "execution_count": 7,
   "metadata": {},
   "outputs": [],
   "source": [
    "#https://api.worldnewsapi.com/search-news?api-key=8f3cfceb2aec40b78a9731c4c69bdd0f&text=aapl?latest-publish-date=2020-01-01"
   ]
  },
  {
   "cell_type": "code",
   "execution_count": 8,
   "metadata": {},
   "outputs": [],
   "source": [
    "APIKEY_NEWS = None\n",
    "with open('apikey_news.txt', 'r') as _apikey:\n",
    "    APIKEY_NEWS = _apikey.read()\n",
    "    _apikey.close()"
   ]
  },
  {
   "cell_type": "code",
   "execution_count": 9,
   "metadata": {},
   "outputs": [],
   "source": [
    "start = start_date.date().isoformat()\n",
    "end = end_date.date().isoformat()"
   ]
  },
  {
   "cell_type": "code",
   "execution_count": 84,
   "metadata": {},
   "outputs": [],
   "source": [
    "\n",
    "#&language=en&earliest-publish-date=2020-01-01&latest-publish-date=2020-02-01$text=aapl\n",
    "API_URL_NEWS = f\"https://api.worldnewsapi.com/search-news?api-key={APIKEY_NEWS}&text=aapl&latest-publish-date=2020-01-01\""
   ]
  },
  {
   "cell_type": "code",
   "execution_count": 85,
   "metadata": {},
   "outputs": [],
   "source": [
    "def parse_news_data(_urlNews: str):\n",
    "    with requests.Session() as s:\n",
    "        download = s.get(_urlNews)\n",
    "        df_news = pd.json_normalize(download.json()['news'])\n",
    "    return df_news"
   ]
  },
  {
   "cell_type": "code",
   "execution_count": 86,
   "metadata": {},
   "outputs": [
    {
     "data": {
      "text/html": [
       "<div>\n",
       "<style scoped>\n",
       "    .dataframe tbody tr th:only-of-type {\n",
       "        vertical-align: middle;\n",
       "    }\n",
       "\n",
       "    .dataframe tbody tr th {\n",
       "        vertical-align: top;\n",
       "    }\n",
       "\n",
       "    .dataframe thead th {\n",
       "        text-align: right;\n",
       "    }\n",
       "</style>\n",
       "<table border=\"1\" class=\"dataframe\">\n",
       "  <thead>\n",
       "    <tr style=\"text-align: right;\">\n",
       "      <th></th>\n",
       "      <th>id</th>\n",
       "      <th>title</th>\n",
       "      <th>text</th>\n",
       "      <th>url</th>\n",
       "      <th>image</th>\n",
       "      <th>publish_date</th>\n",
       "      <th>author</th>\n",
       "      <th>language</th>\n",
       "      <th>source_country</th>\n",
       "      <th>sentiment</th>\n",
       "    </tr>\n",
       "  </thead>\n",
       "  <tbody>\n",
       "    <tr>\n",
       "      <th>0</th>\n",
       "      <td>60404</td>\n",
       "      <td>INTERNET: Grindr Case Bodes Poorly for China T...</td>\n",
       "      <td>Bottom line: The US decision to force a sale o...</td>\n",
       "      <td>http://www.youngchinabiz.com/en/internet-grind...</td>\n",
       "      <td>https://media.gettyimages.com/photos/stop-hand...</td>\n",
       "      <td>2019-05-23 09:58:40</td>\n",
       "      <td>newsdoug</td>\n",
       "      <td>en</td>\n",
       "      <td>cn</td>\n",
       "      <td>0.163</td>\n",
       "    </tr>\n",
       "  </tbody>\n",
       "</table>\n",
       "</div>"
      ],
      "text/plain": [
       "      id                                              title   \n",
       "0  60404  INTERNET: Grindr Case Bodes Poorly for China T...  \\\n",
       "\n",
       "                                                text   \n",
       "0  Bottom line: The US decision to force a sale o...  \\\n",
       "\n",
       "                                                 url   \n",
       "0  http://www.youngchinabiz.com/en/internet-grind...  \\\n",
       "\n",
       "                                               image         publish_date   \n",
       "0  https://media.gettyimages.com/photos/stop-hand...  2019-05-23 09:58:40  \\\n",
       "\n",
       "     author language source_country  sentiment  \n",
       "0  newsdoug       en             cn      0.163  "
      ]
     },
     "execution_count": 86,
     "metadata": {},
     "output_type": "execute_result"
    }
   ],
   "source": [
    "df = parse_news_data(API_URL_NEWS)\n",
    "df"
   ]
  },
  {
   "cell_type": "code",
   "execution_count": 111,
   "metadata": {},
   "outputs": [],
   "source": [
    "df.to_csv('data/news.csv')"
   ]
  },
  {
   "cell_type": "code",
   "execution_count": 93,
   "metadata": {},
   "outputs": [
    {
     "data": {
      "text/plain": [
       "0     2020-01-01\n",
       "1     2020-01-02\n",
       "2     2020-01-03\n",
       "3     2020-01-06\n",
       "4     2020-01-07\n",
       "         ...    \n",
       "257   2020-12-25\n",
       "258   2020-12-28\n",
       "259   2020-12-29\n",
       "260   2020-12-30\n",
       "261   2020-12-31\n",
       "Name: date, Length: 262, dtype: datetime64[ns]"
      ]
     },
     "execution_count": 93,
     "metadata": {},
     "output_type": "execute_result"
    }
   ],
   "source": [
    "df_one_year.date"
   ]
  },
  {
   "cell_type": "code",
   "execution_count": 114,
   "metadata": {},
   "outputs": [],
   "source": [
    "dates_for_news = ['2020-01-01', '2020-02-01', '2020-03-01', '2020-04-01',\n",
    "                  '2020-05-01', '2020-06-01', '2020-07-01', '2020-08-01', \n",
    "                  '2020-09-01', '2020-10-01', '2020-11-01', '2020-12-01', '2021-01-01']\n",
    "\n",
    "pare_dates = [i for i in zip(dates_for_news[:-1], dates_for_news[1:])]\n",
    "\n",
    "for i, dt in enumerate(pare_dates):\n",
    "    s = dt[0]\n",
    "    e = dt[1]\n",
    "    API_URL_NEWS = f\"https://api.worldnewsapi.com/search-news?api-key={APIKEY_NEWS}&language=en&earliest-publish-date={s}&latest-publish-date={e}$number=50$text=aapl\"\n",
    "    \n",
    "    df = parse_news_data(API_URL_NEWS)\n",
    "    df.to_csv(f'data/news_{i}')\n",
    "    "
   ]
  },
  {
   "cell_type": "code",
   "execution_count": 138,
   "metadata": {},
   "outputs": [],
   "source": [
    "df1 = pd.read_csv('data/news_0').iloc[:,1:].sort_values('publish_date').reset_index(drop=True)\n",
    "df1 = df1[['title', 'text', 'url', 'publish_date']]"
   ]
  },
  {
   "cell_type": "code",
   "execution_count": 139,
   "metadata": {},
   "outputs": [],
   "source": [
    "df2 = pd.read_csv('data/news_1').iloc[:,1:].sort_values('publish_date').reset_index(drop=True)\n",
    "df2 = df2[['title', 'text', 'url', 'publish_date']]"
   ]
  },
  {
   "cell_type": "code",
   "execution_count": 141,
   "metadata": {},
   "outputs": [],
   "source": [
    "df_all_news = pd.concat([df1, df2], ignore_index=True)"
   ]
  },
  {
   "cell_type": "code",
   "execution_count": 149,
   "metadata": {},
   "outputs": [
    {
     "data": {
      "text/html": [
       "<div>\n",
       "<style scoped>\n",
       "    .dataframe tbody tr th:only-of-type {\n",
       "        vertical-align: middle;\n",
       "    }\n",
       "\n",
       "    .dataframe tbody tr th {\n",
       "        vertical-align: top;\n",
       "    }\n",
       "\n",
       "    .dataframe thead th {\n",
       "        text-align: right;\n",
       "    }\n",
       "</style>\n",
       "<table border=\"1\" class=\"dataframe\">\n",
       "  <thead>\n",
       "    <tr style=\"text-align: right;\">\n",
       "      <th></th>\n",
       "      <th>title</th>\n",
       "      <th>text</th>\n",
       "      <th>url</th>\n",
       "      <th>publish_date</th>\n",
       "    </tr>\n",
       "  </thead>\n",
       "  <tbody>\n",
       "    <tr>\n",
       "      <th>0</th>\n",
       "      <td>Making History With the Ethiopian Diaspora Tru...</td>\n",
       "      <td>Originally published at AlMariam.com WISHING A...</td>\n",
       "      <td>http://cyberethiopia.com/2013/?p=2161</td>\n",
       "      <td>2020-01-02 09:55:40</td>\n",
       "    </tr>\n",
       "    <tr>\n",
       "      <th>1</th>\n",
       "      <td>Tourism in Spain: Spaniards’ new travel trends...</td>\n",
       "      <td>Spaniards traveled less in the summer of 2019 ...</td>\n",
       "      <td>https://english.elpais.com/elpais/2019/12/30/i...</td>\n",
       "      <td>2020-01-02 10:31:00</td>\n",
       "    </tr>\n",
       "    <tr>\n",
       "      <th>2</th>\n",
       "      <td>New draft GB 7718 – main changes – The CHINA F...</td>\n",
       "      <td>2019 ended with a “roar” from the food regulat...</td>\n",
       "      <td>https://chinafoodlaw.blog/2020/01/03/new-draft...</td>\n",
       "      <td>2020-01-03 05:28:40</td>\n",
       "    </tr>\n",
       "    <tr>\n",
       "      <th>3</th>\n",
       "      <td>Amelga, LLC announces letter released by Ermya...</td>\n",
       "      <td>FOR IMMEDIATE RELEASE Contact AmelgaLLC@gmail....</td>\n",
       "      <td>http://cyberethiopia.com/2013/?p=2165</td>\n",
       "      <td>2020-01-05 16:41:22</td>\n",
       "    </tr>\n",
       "    <tr>\n",
       "      <th>4</th>\n",
       "      <td>Spanish airports: Airport authority plans €1.5...</td>\n",
       "      <td>The Spanish airport authority Aena is planning...</td>\n",
       "      <td>https://english.elpais.com/elpais/2020/01/03/i...</td>\n",
       "      <td>2020-01-07 07:54:47</td>\n",
       "    </tr>\n",
       "    <tr>\n",
       "      <th>...</th>\n",
       "      <td>...</td>\n",
       "      <td>...</td>\n",
       "      <td>...</td>\n",
       "      <td>...</td>\n",
       "    </tr>\n",
       "    <tr>\n",
       "      <th>112</th>\n",
       "      <td>Arts Council invests €7 million in 530 artists...</td>\n",
       "      <td>More than 530 artists across 27 counties and o...</td>\n",
       "      <td>https://www.artscouncil.ie/News/Arts-Council-i...</td>\n",
       "      <td>2020-12-08 00:00:00</td>\n",
       "    </tr>\n",
       "    <tr>\n",
       "      <th>113</th>\n",
       "      <td>Arts Council research: more people ready to go...</td>\n",
       "      <td>More people in Ireland are ready to go to thea...</td>\n",
       "      <td>https://www.artscouncil.ie/News/Arts-Council-r...</td>\n",
       "      <td>2020-12-11 00:00:00</td>\n",
       "    </tr>\n",
       "    <tr>\n",
       "      <th>114</th>\n",
       "      <td>Nollaig Casey appointed Traditional Artist in ...</td>\n",
       "      <td>The Arts Council, in association with, The Col...</td>\n",
       "      <td>https://www.artscouncil.ie/News/Nollaig-Casey-...</td>\n",
       "      <td>2020-12-11 00:00:00</td>\n",
       "    </tr>\n",
       "    <tr>\n",
       "      <th>115</th>\n",
       "      <td>Trending on (Addis) Fortune – (Addis) Fortune ...</td>\n",
       "      <td>Ethio Telecom Claims Regional Operations in Me...</td>\n",
       "      <td>https://addisfortune.news/web-stories/trending...</td>\n",
       "      <td>2020-12-11 11:57:16</td>\n",
       "    </tr>\n",
       "    <tr>\n",
       "      <th>116</th>\n",
       "      <td>Conflicts in Ethiopia Exacerbate Food Security...</td>\n",
       "      <td>Conflicts Exacerbate Food Security Threat Over...</td>\n",
       "      <td>https://addisfortune.news/web-stories/conflict...</td>\n",
       "      <td>2020-12-11 12:53:41</td>\n",
       "    </tr>\n",
       "  </tbody>\n",
       "</table>\n",
       "<p>117 rows × 4 columns</p>\n",
       "</div>"
      ],
      "text/plain": [
       "                                                 title   \n",
       "0    Making History With the Ethiopian Diaspora Tru...  \\\n",
       "1    Tourism in Spain: Spaniards’ new travel trends...   \n",
       "2    New draft GB 7718 – main changes – The CHINA F...   \n",
       "3    Amelga, LLC announces letter released by Ermya...   \n",
       "4    Spanish airports: Airport authority plans €1.5...   \n",
       "..                                                 ...   \n",
       "112  Arts Council invests €7 million in 530 artists...   \n",
       "113  Arts Council research: more people ready to go...   \n",
       "114  Nollaig Casey appointed Traditional Artist in ...   \n",
       "115  Trending on (Addis) Fortune – (Addis) Fortune ...   \n",
       "116  Conflicts in Ethiopia Exacerbate Food Security...   \n",
       "\n",
       "                                                  text   \n",
       "0    Originally published at AlMariam.com WISHING A...  \\\n",
       "1    Spaniards traveled less in the summer of 2019 ...   \n",
       "2    2019 ended with a “roar” from the food regulat...   \n",
       "3    FOR IMMEDIATE RELEASE Contact AmelgaLLC@gmail....   \n",
       "4    The Spanish airport authority Aena is planning...   \n",
       "..                                                 ...   \n",
       "112  More than 530 artists across 27 counties and o...   \n",
       "113  More people in Ireland are ready to go to thea...   \n",
       "114  The Arts Council, in association with, The Col...   \n",
       "115  Ethio Telecom Claims Regional Operations in Me...   \n",
       "116  Conflicts Exacerbate Food Security Threat Over...   \n",
       "\n",
       "                                                   url         publish_date  \n",
       "0                http://cyberethiopia.com/2013/?p=2161  2020-01-02 09:55:40  \n",
       "1    https://english.elpais.com/elpais/2019/12/30/i...  2020-01-02 10:31:00  \n",
       "2    https://chinafoodlaw.blog/2020/01/03/new-draft...  2020-01-03 05:28:40  \n",
       "3                http://cyberethiopia.com/2013/?p=2165  2020-01-05 16:41:22  \n",
       "4    https://english.elpais.com/elpais/2020/01/03/i...  2020-01-07 07:54:47  \n",
       "..                                                 ...                  ...  \n",
       "112  https://www.artscouncil.ie/News/Arts-Council-i...  2020-12-08 00:00:00  \n",
       "113  https://www.artscouncil.ie/News/Arts-Council-r...  2020-12-11 00:00:00  \n",
       "114  https://www.artscouncil.ie/News/Nollaig-Casey-...  2020-12-11 00:00:00  \n",
       "115  https://addisfortune.news/web-stories/trending...  2020-12-11 11:57:16  \n",
       "116  https://addisfortune.news/web-stories/conflict...  2020-12-11 12:53:41  \n",
       "\n",
       "[117 rows x 4 columns]"
      ]
     },
     "execution_count": 149,
     "metadata": {},
     "output_type": "execute_result"
    }
   ],
   "source": [
    "df_all_news = None\n",
    "\n",
    "for i in range(12):\n",
    "    path = f\"data/news_{i}\"\n",
    "    \n",
    "    df = pd.read_csv(path).iloc[:,1:].sort_values('publish_date').reset_index(drop=True)\n",
    "    df = df[['title', 'text', 'url', 'publish_date']]\n",
    "    \n",
    "    if i == 0:\n",
    "        df_all_news = df.copy()\n",
    "    else:\n",
    "        df_all_news = pd.concat([df_all_news, df], ignore_index=True)\n",
    "\n",
    "df_all_news"
   ]
  },
  {
   "cell_type": "code",
   "execution_count": 157,
   "metadata": {},
   "outputs": [],
   "source": [
    "df_all_news.sort_values('publish_date', ignore_index=True, inplace=True)\n",
    "df_all_news.to_csv('data/news_total.csv')"
   ]
  },
  {
   "cell_type": "code",
   "execution_count": 37,
   "metadata": {},
   "outputs": [],
   "source": [
    "def remove_commas(string):\n",
    "   trans_table = {ord(',') : None, ord(':') : None, ord('.') : None, ord('!') : None,\n",
    "                  ord('–') : None, ord(\"'\") : None, ord('\"') : None, ord('€') : None,\n",
    "                  ord('£') : None, ord(';') : None, ord('‘') : None, ord('’') : None,\n",
    "                  ord('(') : None, ord(')') : None, ord('«') : None, ord('[') : None,\n",
    "                  ord(']') : None, ord('?') : None, ord('+') : None, ord('-') : None,\n",
    "                  ord('=') : None, ord('_') : None, ord('&') : None, ord('ó') : None}\n",
    "   \n",
    "   return string.translate(trans_table)"
   ]
  },
  {
   "cell_type": "code",
   "execution_count": 182,
   "metadata": {},
   "outputs": [
    {
     "ename": "UnicodeEncodeError",
     "evalue": "'charmap' codec can't encode characters in position 34-39: character maps to <undefined>",
     "output_type": "error",
     "traceback": [
      "\u001b[1;31m---------------------------------------------------------------------------\u001b[0m",
      "\u001b[1;31mUnicodeEncodeError\u001b[0m                        Traceback (most recent call last)",
      "Cell \u001b[1;32mIn[182], line 8\u001b[0m\n\u001b[0;32m      5\u001b[0m date \u001b[39m=\u001b[39m news\u001b[39m.\u001b[39mpublish_date\n\u001b[0;32m      7\u001b[0m f \u001b[39m=\u001b[39m \u001b[39mopen\u001b[39m(\u001b[39mf\u001b[39m\u001b[39m'\u001b[39m\u001b[39mdata/news_text/\u001b[39m\u001b[39m{\u001b[39;00mremove_commas(date)\u001b[39m}\u001b[39;00m\u001b[39m_\u001b[39m\u001b[39m{\u001b[39;00mremove_commas(title)\u001b[39m}\u001b[39;00m\u001b[39m'\u001b[39m, \u001b[39m'\u001b[39m\u001b[39mw\u001b[39m\u001b[39m'\u001b[39m)\n\u001b[1;32m----> 8\u001b[0m f\u001b[39m.\u001b[39;49mwrite(\u001b[39mf\u001b[39;49m\u001b[39m'\u001b[39;49m\u001b[39mdate: \u001b[39;49m\u001b[39m{\u001b[39;49;00m\u001b[39mstr\u001b[39;49m(date)\u001b[39m}\u001b[39;49;00m\u001b[39m\\n\u001b[39;49;00m\u001b[39mtitle: \u001b[39;49m\u001b[39m{\u001b[39;49;00mremove_commas(title)\u001b[39m}\u001b[39;49;00m\u001b[39m\\n\u001b[39;49;00m\u001b[39mremove_commas(text)\u001b[39;49m\u001b[39m'\u001b[39;49m)\n\u001b[0;32m      9\u001b[0m \u001b[39m#f.write(remove_commas(text))\u001b[39;00m\n\u001b[0;32m     10\u001b[0m f\u001b[39m.\u001b[39mclose()\n",
      "File \u001b[1;32mC:\\Program Files\\WindowsApps\\PythonSoftwareFoundation.Python.3.10_3.10.3056.0_x64__qbz5n2kfra8p0\\lib\\encodings\\cp1251.py:19\u001b[0m, in \u001b[0;36mIncrementalEncoder.encode\u001b[1;34m(self, input, final)\u001b[0m\n\u001b[0;32m     18\u001b[0m \u001b[39mdef\u001b[39;00m \u001b[39mencode\u001b[39m(\u001b[39mself\u001b[39m, \u001b[39minput\u001b[39m, final\u001b[39m=\u001b[39m\u001b[39mFalse\u001b[39;00m):\n\u001b[1;32m---> 19\u001b[0m     \u001b[39mreturn\u001b[39;00m codecs\u001b[39m.\u001b[39;49mcharmap_encode(\u001b[39minput\u001b[39;49m,\u001b[39mself\u001b[39;49m\u001b[39m.\u001b[39;49merrors,encoding_table)[\u001b[39m0\u001b[39m]\n",
      "\u001b[1;31mUnicodeEncodeError\u001b[0m: 'charmap' codec can't encode characters in position 34-39: character maps to <undefined>"
     ]
    }
   ],
   "source": [
    "for i in range(len(df_all_news)):\n",
    "    news = df_all_news.iloc[i]\n",
    "    text = news.text\n",
    "    title = news.title\n",
    "    date = news.publish_date\n",
    "    \n",
    "    f = open(f'data/news_text/{remove_commas(date)}_{remove_commas(title)}', 'w')\n",
    "    f.write(f'date: {str(date)}\\ntitle: {remove_commas(title)}\\n{remove_commas(text)}')\n",
    "    #f.write(remove_commas(text))\n",
    "    f.close()\n",
    "    "
   ]
  },
  {
   "cell_type": "code",
   "execution_count": 11,
   "metadata": {},
   "outputs": [],
   "source": [
    "for i in range(5):\n",
    "    f = open(f'text_{i}', 'w')\n",
    "    f.write(f'test_{i}')\n",
    "    f.close()"
   ]
  },
  {
   "cell_type": "code",
   "execution_count": 12,
   "metadata": {},
   "outputs": [
    {
     "data": {
      "text/plain": [
       "'How_1231todothis'"
      ]
     },
     "execution_count": 12,
     "metadata": {},
     "output_type": "execute_result"
    }
   ],
   "source": [
    "import re\n",
    "\n",
    "test = 'How!@#$%^&*()_+-= 1231:\"}\"}:><? to do this '\n",
    "\n",
    "re.sub(r'\\W', '', test)"
   ]
  },
  {
   "cell_type": "code",
   "execution_count": 48,
   "metadata": {},
   "outputs": [
    {
     "data": {
      "text/html": [
       "<div>\n",
       "<style scoped>\n",
       "    .dataframe tbody tr th:only-of-type {\n",
       "        vertical-align: middle;\n",
       "    }\n",
       "\n",
       "    .dataframe tbody tr th {\n",
       "        vertical-align: top;\n",
       "    }\n",
       "\n",
       "    .dataframe thead th {\n",
       "        text-align: right;\n",
       "    }\n",
       "</style>\n",
       "<table border=\"1\" class=\"dataframe\">\n",
       "  <thead>\n",
       "    <tr style=\"text-align: right;\">\n",
       "      <th></th>\n",
       "      <th>title</th>\n",
       "      <th>text</th>\n",
       "      <th>url</th>\n",
       "      <th>publish_date</th>\n",
       "    </tr>\n",
       "  </thead>\n",
       "  <tbody>\n",
       "    <tr>\n",
       "      <th>0</th>\n",
       "      <td>Making History With the Ethiopian Diaspora Tru...</td>\n",
       "      <td>Originally published at AlMariam.com WISHING A...</td>\n",
       "      <td>http://cyberethiopia.com/2013/?p=2161</td>\n",
       "      <td>2020-01-02 09:55:40</td>\n",
       "    </tr>\n",
       "    <tr>\n",
       "      <th>1</th>\n",
       "      <td>Tourism in Spain: Spaniards’ new travel trends...</td>\n",
       "      <td>Spaniards traveled less in the summer of 2019 ...</td>\n",
       "      <td>https://english.elpais.com/elpais/2019/12/30/i...</td>\n",
       "      <td>2020-01-02 10:31:00</td>\n",
       "    </tr>\n",
       "    <tr>\n",
       "      <th>2</th>\n",
       "      <td>New draft GB 7718 – main changes – The CHINA F...</td>\n",
       "      <td>2019 ended with a “roar” from the food regulat...</td>\n",
       "      <td>https://chinafoodlaw.blog/2020/01/03/new-draft...</td>\n",
       "      <td>2020-01-03 05:28:40</td>\n",
       "    </tr>\n",
       "    <tr>\n",
       "      <th>3</th>\n",
       "      <td>Amelga, LLC announces letter released by Ermya...</td>\n",
       "      <td>FOR IMMEDIATE RELEASE Contact AmelgaLLC@gmail....</td>\n",
       "      <td>http://cyberethiopia.com/2013/?p=2165</td>\n",
       "      <td>2020-01-05 16:41:22</td>\n",
       "    </tr>\n",
       "    <tr>\n",
       "      <th>4</th>\n",
       "      <td>Spanish airports: Airport authority plans €1.5...</td>\n",
       "      <td>The Spanish airport authority Aena is planning...</td>\n",
       "      <td>https://english.elpais.com/elpais/2020/01/03/i...</td>\n",
       "      <td>2020-01-07 07:54:47</td>\n",
       "    </tr>\n",
       "    <tr>\n",
       "      <th>...</th>\n",
       "      <td>...</td>\n",
       "      <td>...</td>\n",
       "      <td>...</td>\n",
       "      <td>...</td>\n",
       "    </tr>\n",
       "    <tr>\n",
       "      <th>112</th>\n",
       "      <td>Arts Council invests €7 million in 530 artists...</td>\n",
       "      <td>More than 530 artists across 27 counties and o...</td>\n",
       "      <td>https://www.artscouncil.ie/News/Arts-Council-i...</td>\n",
       "      <td>2020-12-08 00:00:00</td>\n",
       "    </tr>\n",
       "    <tr>\n",
       "      <th>113</th>\n",
       "      <td>Arts Council research: more people ready to go...</td>\n",
       "      <td>More people in Ireland are ready to go to thea...</td>\n",
       "      <td>https://www.artscouncil.ie/News/Arts-Council-r...</td>\n",
       "      <td>2020-12-11 00:00:00</td>\n",
       "    </tr>\n",
       "    <tr>\n",
       "      <th>114</th>\n",
       "      <td>Nollaig Casey appointed Traditional Artist in ...</td>\n",
       "      <td>The Arts Council, in association with, The Col...</td>\n",
       "      <td>https://www.artscouncil.ie/News/Nollaig-Casey-...</td>\n",
       "      <td>2020-12-11 00:00:00</td>\n",
       "    </tr>\n",
       "    <tr>\n",
       "      <th>115</th>\n",
       "      <td>Trending on (Addis) Fortune – (Addis) Fortune ...</td>\n",
       "      <td>Ethio Telecom Claims Regional Operations in Me...</td>\n",
       "      <td>https://addisfortune.news/web-stories/trending...</td>\n",
       "      <td>2020-12-11 11:57:16</td>\n",
       "    </tr>\n",
       "    <tr>\n",
       "      <th>116</th>\n",
       "      <td>Conflicts in Ethiopia Exacerbate Food Security...</td>\n",
       "      <td>Conflicts Exacerbate Food Security Threat Over...</td>\n",
       "      <td>https://addisfortune.news/web-stories/conflict...</td>\n",
       "      <td>2020-12-11 12:53:41</td>\n",
       "    </tr>\n",
       "  </tbody>\n",
       "</table>\n",
       "<p>117 rows × 4 columns</p>\n",
       "</div>"
      ],
      "text/plain": [
       "                                                 title   \n",
       "0    Making History With the Ethiopian Diaspora Tru...  \\\n",
       "1    Tourism in Spain: Spaniards’ new travel trends...   \n",
       "2    New draft GB 7718 – main changes – The CHINA F...   \n",
       "3    Amelga, LLC announces letter released by Ermya...   \n",
       "4    Spanish airports: Airport authority plans €1.5...   \n",
       "..                                                 ...   \n",
       "112  Arts Council invests €7 million in 530 artists...   \n",
       "113  Arts Council research: more people ready to go...   \n",
       "114  Nollaig Casey appointed Traditional Artist in ...   \n",
       "115  Trending on (Addis) Fortune – (Addis) Fortune ...   \n",
       "116  Conflicts in Ethiopia Exacerbate Food Security...   \n",
       "\n",
       "                                                  text   \n",
       "0    Originally published at AlMariam.com WISHING A...  \\\n",
       "1    Spaniards traveled less in the summer of 2019 ...   \n",
       "2    2019 ended with a “roar” from the food regulat...   \n",
       "3    FOR IMMEDIATE RELEASE Contact AmelgaLLC@gmail....   \n",
       "4    The Spanish airport authority Aena is planning...   \n",
       "..                                                 ...   \n",
       "112  More than 530 artists across 27 counties and o...   \n",
       "113  More people in Ireland are ready to go to thea...   \n",
       "114  The Arts Council, in association with, The Col...   \n",
       "115  Ethio Telecom Claims Regional Operations in Me...   \n",
       "116  Conflicts Exacerbate Food Security Threat Over...   \n",
       "\n",
       "                                                   url         publish_date  \n",
       "0                http://cyberethiopia.com/2013/?p=2161  2020-01-02 09:55:40  \n",
       "1    https://english.elpais.com/elpais/2019/12/30/i...  2020-01-02 10:31:00  \n",
       "2    https://chinafoodlaw.blog/2020/01/03/new-draft...  2020-01-03 05:28:40  \n",
       "3                http://cyberethiopia.com/2013/?p=2165  2020-01-05 16:41:22  \n",
       "4    https://english.elpais.com/elpais/2020/01/03/i...  2020-01-07 07:54:47  \n",
       "..                                                 ...                  ...  \n",
       "112  https://www.artscouncil.ie/News/Arts-Council-i...  2020-12-08 00:00:00  \n",
       "113  https://www.artscouncil.ie/News/Arts-Council-r...  2020-12-11 00:00:00  \n",
       "114  https://www.artscouncil.ie/News/Nollaig-Casey-...  2020-12-11 00:00:00  \n",
       "115  https://addisfortune.news/web-stories/trending...  2020-12-11 11:57:16  \n",
       "116  https://addisfortune.news/web-stories/conflict...  2020-12-11 12:53:41  \n",
       "\n",
       "[117 rows x 4 columns]"
      ]
     },
     "execution_count": 48,
     "metadata": {},
     "output_type": "execute_result"
    }
   ],
   "source": [
    "df_news = pd.read_csv('data/news_total.csv').iloc[:,1:]\n",
    "df_news"
   ]
  },
  {
   "cell_type": "code",
   "execution_count": 49,
   "metadata": {},
   "outputs": [
    {
     "data": {
      "text/plain": [
       "title           Making History With the Ethiopian Diaspora Tru...\n",
       "text            Originally published at AlMariam.com WISHING A...\n",
       "url                         http://cyberethiopia.com/2013/?p=2161\n",
       "publish_date                                  2020-01-02 09:55:40\n",
       "Name: 0, dtype: object"
      ]
     },
     "execution_count": 49,
     "metadata": {},
     "output_type": "execute_result"
    }
   ],
   "source": [
    "df_news.iloc[0]"
   ]
  },
  {
   "cell_type": "code",
   "execution_count": 50,
   "metadata": {},
   "outputs": [],
   "source": [
    "df_news.publish_date = df_news.publish_date.apply(lambda x: remove_commas(x))\n",
    "df_news.title = df_news.title.apply(lambda x: remove_commas(x))\n",
    "df_news.text = df_news.text.apply(lambda x: remove_commas(x))"
   ]
  },
  {
   "cell_type": "code",
   "execution_count": 62,
   "metadata": {},
   "outputs": [
    {
     "name": "stdout",
     "output_type": "stream",
     "text": [
      "0\n",
      "20200102 095540\n",
      "Making History With the Ethiopian Diaspora Trust Fund 22 Projects Shortlisted for Funding  CyberEthiopiacom\n",
      "Originally published at AlMariamcom WISHING ALL IN THE EDTF FAMILY FRIENDS OF EDTF AND ALL OTHERS A HAPPY NEW YEAR The Ethiopian Diaspora Trust Fund EDTF Board of Directors BoD and Advisory Council AC are proud to announce the selection of 22 projects for funding pending capacity and budgetary reviews EDTF was launched in August 2018 when HE Prime Minster Dr Abiy Ahmed made a call to the global Ethiopian diaspora community to donate $1 a day to support critical projects in Ethiopia By October 2018 the AC working around the clock was able to incorporate EDTF successfully navigate federal regulatory requirements make arrangement with banks and global payment processors and launch a robust website By December 2018 EDTF had laid out and implemented the supporting infrastructure for EDTF by recruiting dozens of volunteers and establishing global chapters By March 2019 EDTF established a Secretariat in Ethiopia to begin preparatory work for project implementation By May 2019 we had set up a stellar Board of Directors for EDTF in Ethiopia and fully registered EDTF under the Ethiopian societies and charities law By July 2019 EDTF issued its first request for proposals with a midSeptember submission deadline Hundreds of proposals were submitted from all corners of Ethiopia In August 2019 EDTF received tax exemption in the US and became a 501 c 3 organization Tax ID 832100439 In September EDTF received hundreds of submissions in response to its first call for project proposals By October 2018 exactly one year to the month EDTF had collected donations over $5M USD In December 2019 22 projects were shortlisted by our dozens of panels of experts and presented to the BoD by the Secretariat for consideration and approval EDTF commits 100 percent of all donations to project implementation No donations are sued for adminsitartive or other purposes EDTF is 100 percent supported by volunteers Only the Secretariat is paid with support from the United Nations Development Programme EDTF is 100 percent inclusive of all Ethiopians and friends of Ethiopia willing to donate $1 a day EDTF conducts its business with maximum transparency and accountability EDTF prides itself in being an open book to its donors and anyone interested All EDTF donors are listed on our website unless they request anonymity We make weekly reports of donations received and once projects are implemented we will provide up to date financial reports Million thanks to… As Chair of the EDTF I thank the 25700 Ethiopian diaspora donors from 93 countries who contributed $1 a day to help the EDTF effort They have proven the power of one $1 a day I thank our volunteers including those who have provided EDTF technical support in a variety of areas Our EDTF volunteers have given their time money knowledge and resources freely because they believe in the EDTF cause They are truly the backbone of EDTF I thank the members of our global chapters now numbering 43 Our chapter members are the driving engines of our local engagement campaigns I thank the United Nations Development Fund UNDP for their generous support in establishing our EDTF Secretariat We deeply appreciate UNDPs confidence in our objectives and capacity to deliver on our promises We thank our many sponsors who have given generously to EDTF during our first annual fundraising event I thank the members of the EDTF Advisory Council It is a privilege and an honor to work with so many professionals who made significant financial and technical contributions and dedicated their Sundays to EDTF for a better part of a year Last but not least I would like to thank HE Prime Minister Abiy Ahmed for delivering Ethiopias Call for Help to Diaspora Ethiopians Good leaders share a vision and inspire others to help them turn their vision into reality First Round of EDTF Projects Full official Press Release available HERE The 22 shortlisted projects in no particular order are Korah Great Hope Charity Organization KGHCO on Water and Sanitation Hygiene promotion at Woreda 01 of Kolfe Keraniyo SubCity Hiwot Integrated Development Organization HIDO on Education Early Childhood Care and Education ECCE Services for Orphans and Vulnerable Children OVC Organization for Women in Self Employment WISE on Women Employment Enhancing the employability and competitiveness of underprivileged young and adult women in Addis Ababa Federation of Ethiopian National Associations of Persons with Disabilities  FENAPD on Women  Youth  Rehabilitation Improving the livelihood of women and youth with disability Addis Ababa Oromia SNNPR Amhara and Tigray Beza Posterity Development Organization on Child Protection Collaborative and Indigenous Action to Prevent Child Marriage and FGM CIAPCm in AfarRegion Pro Development Network on Water Sanitation and Hygiene Promotion of Safe Water Supply Hygiene and Sanitation for Hard to Reach Communities Using renewable energy in Afar and Tigray Region Organization for Rehabilitation and Development in Amhara ORDA on Water and Sanitation Yilmana Densa WASH Project Help for Persons with DisabilitiesOrganization HPDO on Education Build the fulfilling capacity of special needs education units in selected primary schools for the provision of specialized services for neglected children with disabilities to be effectively and meaningfully integrated with regular school system Network of Charitable Association of HIV Positive for Health and Development NAPHAD on Sanitation Come on Clean COC Action Against Open Defecation and Waste Dumping Ethiopian Red Cross Society on Water and Sanitation for Internally Displaced People Integrated WASH and Livelihood Recovery Project for Conflict Displaced Population in Central Gondar Zone Shayashone Trading PLC on Food Income and Nutrition Security / Youth Employment Promoting Hermetic Storage Technologies PICS Bags for Household foodincome Nutrition Security and Job Opportunity for youth in Amhara SNNPR and Oromia regions BoroShinasha Development Association BoroSDA on Agriculture Youthful Agribusiness Development Project in Benishangul Gumuz Region in Benishangul Gumuz Region Dire Dawa Agriculture Water Mine and Energy Bureau on Irrigation and Water Supply Hasenliso irrigation development and potable water supply project Mathiwos Wondu  YeEthiopia Cancer Society on Health Cervical Cancer Strengthening access for Cervical Cancer Screening in Gambella Afar BenishangulGumuz Regions of Ethiopia in Gambella Afar Benshangule Gumuz Haramaya University on Solid Waste Management/Income Generation WastetoWealth Ecofriendly Approaches for Sustainable Solid Waste Management in Harar City Ethiopia in Harar Siiqqee Womens Development Association SWDA on AgriBusiness Development for Internally Displaced People Reestablishment of livelihoods for Internal Displaced people in Oromia Regional State Oromia Regional State Oromo Self Reliance Association OSRA on Health and Education Clean water supply improved sanitation facilities and hygiene promotion for ruralcommunities and schools located in four woredas of Oromia Region Bole Bible Baptist church Child Care and Community Development BBBC on Education Enlightenment Through Education ETE Project in Oromia Gurmuu Development Association Gurmuu on Education Enhancing educational provision in four primary schools through improving children learning environment in Oromia Regional State Hadiya Development Association HAD on Education Daneto Secondary School Upgrading Project Soro Woreda Hadiya Zone SNNPRS Tigrai Development Association TDA on Education Help the Child for Lifelong Learning HCLL Project Association Develop Horn ADHorn  Rehabilitation of Disabled People Empowering the Differently Able and Work Towards the Hidden Reality II Support peoples with hearing impairmentdeaf and autistic children in Jijiga city administration Ethiopia Somali Regional State PLEASE DONATE AT https//wwwethiopiatrustfundorg/ For further information please contact Mrs Hanna Atnafu Makonnen Communication Specialist Ethiopian Diaspora Trust Fund Secretariat hannaa@ethiopiatrustfundorg\n",
      "1\n",
      "20200102 103100\n",
      "Tourism in Spain Spaniards new travel trends more trips abroad fewer at home\n",
      "Spaniards traveled less in the summer of 2019 than they did the previous year with a significant drop in domestic tourism that a rise in foreign trips failed to balance out Thats according to the Familitur survey carried out by Spains National Statistics Office INE which focused on the third quarter of 2019 Despite this reduced travel spending rose by 19% with almost 193 billion spent overall According to the data Spaniards undertook 6111 million trips in the third quarter of the year which includes summer vacations This is 54% down compared to the same period of 2018 According to the findings the drop is exclusively due to the fall in domestic travel with 5384 million trips taken within the country  64% less than in 2018 Andalusia was the favored domestic destination accounting for 18% of the total number of trips Meanwhile trips abroad increased by 32% to 727 million Taking the entire year into account the same pattern emerges trips undertaken by Spaniards fell overall by 17% due to the 26% fall in domestic travel which the 7% rise in trips abroad failed to make up for Although Spaniards traveled less they spent longer stretches of time in domestic destinations between July and September with an average of 58 nights 59% longer than in the same period in 2018 On the other hand while there was more foreign travel the length of stay was 87% shorter with an average of 93 nights Fewer trips to Catalonia Andalusia was the favored domestic destination accounting for 18% of the total number of trips 1098 million which is 2% less than 2018 This was followed by the Valencia region with 123% of the total 751 million which is 069% more than in 2018 And the third destination was Catalonia which accounted for 117% indicating that the region has lost more than a million Spanish holidaymakers compared to 2018 when it accounted for 827 million trips as opposed to 714 million in 2019 a drop of 137% The money spent by domestic tourists in Catalonia fell by 36% to 15 billion Cantabria was the region that accounted for most domestic tourism with respect to the size of its own population with 2559 trips made for every 1000 of its own inhabitants It was followed by Castilla y León with 2087 trips and Asturias with 1611 for every 1000 inhabitants Meanwhile Madrileños took the most trips with 1860 for every 1000 inhabitants followed by residents of Aragón 1559 and the Basque Country 1363 The money spent by Spaniards on domestic tourism rose more than what they spent abroad with an increase of 21% for a total of 127 billion on domestic travel and a rise of 14% 65 billion abroad Spaniards traveling within Spain spent an average of 237 per trip the equivalent of 41 per day Meanwhile Spaniards traveling abroad spent an average of 97 a day averaging 898 per trip English version by Heather Galloway\n"
     ]
    },
    {
     "ename": "UnicodeEncodeError",
     "evalue": "'charmap' codec can't encode character '\\xf3' in position 2304: character maps to <undefined>",
     "output_type": "error",
     "traceback": [
      "\u001b[1;31m---------------------------------------------------------------------------\u001b[0m",
      "\u001b[1;31mUnicodeEncodeError\u001b[0m                        Traceback (most recent call last)",
      "Cell \u001b[1;32mIn[62], line 10\u001b[0m\n\u001b[0;32m      7\u001b[0m \u001b[39mprint\u001b[39m(\u001b[39mf\u001b[39m\u001b[39m'\u001b[39m\u001b[39m{\u001b[39;00mi\u001b[39m}\u001b[39;00m\u001b[39m\\n\u001b[39;00m\u001b[39m{\u001b[39;00mdate\u001b[39m}\u001b[39;00m\u001b[39m\\n\u001b[39;00m\u001b[39m{\u001b[39;00mtitle\u001b[39m}\u001b[39;00m\u001b[39m\\n\u001b[39;00m\u001b[39m{\u001b[39;00mtext\u001b[39m}\u001b[39;00m\u001b[39m'\u001b[39m)\n\u001b[0;32m      9\u001b[0m f \u001b[39m=\u001b[39m \u001b[39mopen\u001b[39m(\u001b[39mf\u001b[39m\u001b[39m'\u001b[39m\u001b[39mdata/news_text/\u001b[39m\u001b[39m{\u001b[39;00mdate\u001b[39m}\u001b[39;00m\u001b[39m_\u001b[39m\u001b[39m{\u001b[39;00mtitle[:\u001b[39m25\u001b[39m]\u001b[39m}\u001b[39;00m\u001b[39m'\u001b[39m, \u001b[39m'\u001b[39m\u001b[39mw\u001b[39m\u001b[39m'\u001b[39m)\n\u001b[1;32m---> 10\u001b[0m f\u001b[39m.\u001b[39;49mwrite(\u001b[39mf\u001b[39;49m\u001b[39m'\u001b[39;49m\u001b[39mdate: \u001b[39;49m\u001b[39m{\u001b[39;49;00mdate\u001b[39m}\u001b[39;49;00m\u001b[39m\\n\u001b[39;49;00m\u001b[39mtitle: \u001b[39;49m\u001b[39m{\u001b[39;49;00mtitle\u001b[39m}\u001b[39;49;00m\u001b[39m\\n\u001b[39;49;00m\u001b[39m{\u001b[39;49;00mtext\u001b[39m}\u001b[39;49;00m\u001b[39m'\u001b[39;49m)\n\u001b[0;32m     11\u001b[0m f\u001b[39m.\u001b[39mclose()\n",
      "File \u001b[1;32mC:\\Program Files\\WindowsApps\\PythonSoftwareFoundation.Python.3.10_3.10.3056.0_x64__qbz5n2kfra8p0\\lib\\encodings\\cp1251.py:19\u001b[0m, in \u001b[0;36mIncrementalEncoder.encode\u001b[1;34m(self, input, final)\u001b[0m\n\u001b[0;32m     18\u001b[0m \u001b[39mdef\u001b[39;00m \u001b[39mencode\u001b[39m(\u001b[39mself\u001b[39m, \u001b[39minput\u001b[39m, final\u001b[39m=\u001b[39m\u001b[39mFalse\u001b[39;00m):\n\u001b[1;32m---> 19\u001b[0m     \u001b[39mreturn\u001b[39;00m codecs\u001b[39m.\u001b[39;49mcharmap_encode(\u001b[39minput\u001b[39;49m,\u001b[39mself\u001b[39;49m\u001b[39m.\u001b[39;49merrors,encoding_table)[\u001b[39m0\u001b[39m]\n",
      "\u001b[1;31mUnicodeEncodeError\u001b[0m: 'charmap' codec can't encode character '\\xf3' in position 2304: character maps to <undefined>"
     ]
    }
   ],
   "source": [
    "for i in range(df_news.shape[0]):\n",
    "    news = df_news.iloc[i]\n",
    "    text = news.text\n",
    "    title = news.title\n",
    "    date = news.publish_date\n",
    "    \n",
    "    print(f'{i}\\n{date}\\n{title}\\n{text}')\n",
    "    \n",
    "    f = open(f'data/news_text/{date}_{title[:25]}', 'w')\n",
    "    f.write(f'date: {date}\\ntitle: {title}\\n{text}')\n",
    "    f.close()"
   ]
  },
  {
   "cell_type": "code",
   "execution_count": 65,
   "metadata": {},
   "outputs": [
    {
     "data": {
      "text/plain": [
       "'León with '"
      ]
     },
     "execution_count": 65,
     "metadata": {},
     "output_type": "execute_result"
    }
   ],
   "source": [
    "f'date: {df_news.iloc[1].publish_date}\\ntitle: {df_news.iloc[1].title}\\n{df_news.iloc[1].text}'[2300:2310]"
   ]
  },
  {
   "cell_type": "code",
   "execution_count": null,
   "metadata": {},
   "outputs": [],
   "source": []
  }
 ],
 "metadata": {
  "kernelspec": {
   "display_name": "venv_diplom",
   "language": "python",
   "name": "python3"
  },
  "language_info": {
   "codemirror_mode": {
    "name": "ipython",
    "version": 3
   },
   "file_extension": ".py",
   "mimetype": "text/x-python",
   "name": "python",
   "nbconvert_exporter": "python",
   "pygments_lexer": "ipython3",
   "version": "3.10.11"
  },
  "orig_nbformat": 4
 },
 "nbformat": 4,
 "nbformat_minor": 2
}
