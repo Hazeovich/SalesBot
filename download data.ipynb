{
 "cells": [
  {
   "cell_type": "code",
   "execution_count": 67,
   "id": "6d0edc83",
   "metadata": {},
   "outputs": [],
   "source": [
    "import pandas as pd\n",
    "import requests"
   ]
  },
  {
   "cell_type": "code",
   "execution_count": 68,
   "id": "4412fb14",
   "metadata": {},
   "outputs": [],
   "source": [
    "APIKEY = None\n",
    "with open('apikey.txt', 'r') as _apikey:\n",
    "    APIKEY = _apikey.read()\n",
    "    _apikey.close()"
   ]
  },
  {
   "cell_type": "markdown",
   "id": "3b28708d",
   "metadata": {},
   "source": [
    "https://www.alphavantage.co/documentation/\n",
    "\n",
    "Example: \n",
    "\n",
    "https://www.alphavantage.co/query?function=NEWS_SENTIMENT&tickers=FOREX:EUR&time_from=20220310T0130&time_to=20220410T0130&limit=100&apikey=\n",
    "\n",
    "https://www.alphavantage.co/query?function=NEWS_SENTIMENT&tickers=FOREX:EUR&time_from=20220310T0130&time_to=20220510T0130&topics=finacail_market,earnings&limit=10&apikey="
   ]
  },
  {
   "cell_type": "code",
   "execution_count": 69,
   "id": "af45b2a6",
   "metadata": {},
   "outputs": [],
   "source": [
    "API_URL_PRICE_DAILY = f\"https://www.alphavantage.co/query?function=FX_DAILY&from_symbol=EUR&to_symbol=USD&outputsize=full&apikey={APIKEY}\""
   ]
  },
  {
   "cell_type": "code",
   "execution_count": 73,
   "id": "d6c02af6",
   "metadata": {},
   "outputs": [
    {
     "data": {
      "text/html": [
       "<div>\n",
       "<style scoped>\n",
       "    .dataframe tbody tr th:only-of-type {\n",
       "        vertical-align: middle;\n",
       "    }\n",
       "\n",
       "    .dataframe tbody tr th {\n",
       "        vertical-align: top;\n",
       "    }\n",
       "\n",
       "    .dataframe thead th {\n",
       "        text-align: right;\n",
       "    }\n",
       "</style>\n",
       "<table border=\"1\" class=\"dataframe\">\n",
       "  <thead>\n",
       "    <tr style=\"text-align: right;\">\n",
       "      <th></th>\n",
       "      <th>open</th>\n",
       "      <th>high</th>\n",
       "      <th>low</th>\n",
       "      <th>close</th>\n",
       "    </tr>\n",
       "  </thead>\n",
       "  <tbody>\n",
       "    <tr>\n",
       "      <th>2004-02-06</th>\n",
       "      <td>1.25390</td>\n",
       "      <td>1.27240</td>\n",
       "      <td>1.25390</td>\n",
       "      <td>1.27040</td>\n",
       "    </tr>\n",
       "    <tr>\n",
       "      <th>2004-02-09</th>\n",
       "      <td>1.26760</td>\n",
       "      <td>1.27610</td>\n",
       "      <td>1.26150</td>\n",
       "      <td>1.26960</td>\n",
       "    </tr>\n",
       "    <tr>\n",
       "      <th>2004-02-10</th>\n",
       "      <td>1.26830</td>\n",
       "      <td>1.27880</td>\n",
       "      <td>1.26630</td>\n",
       "      <td>1.26800</td>\n",
       "    </tr>\n",
       "    <tr>\n",
       "      <th>2004-02-11</th>\n",
       "      <td>1.27030</td>\n",
       "      <td>1.28340</td>\n",
       "      <td>1.26460</td>\n",
       "      <td>1.28250</td>\n",
       "    </tr>\n",
       "    <tr>\n",
       "      <th>2004-02-12</th>\n",
       "      <td>1.28100</td>\n",
       "      <td>1.28460</td>\n",
       "      <td>1.27830</td>\n",
       "      <td>1.28030</td>\n",
       "    </tr>\n",
       "    <tr>\n",
       "      <th>...</th>\n",
       "      <td>...</td>\n",
       "      <td>...</td>\n",
       "      <td>...</td>\n",
       "      <td>...</td>\n",
       "    </tr>\n",
       "    <tr>\n",
       "      <th>2023-03-31</th>\n",
       "      <td>1.09042</td>\n",
       "      <td>1.09257</td>\n",
       "      <td>1.08350</td>\n",
       "      <td>1.08381</td>\n",
       "    </tr>\n",
       "    <tr>\n",
       "      <th>2023-04-03</th>\n",
       "      <td>1.08418</td>\n",
       "      <td>1.09166</td>\n",
       "      <td>1.07870</td>\n",
       "      <td>1.09006</td>\n",
       "    </tr>\n",
       "    <tr>\n",
       "      <th>2023-04-04</th>\n",
       "      <td>1.09011</td>\n",
       "      <td>1.09733</td>\n",
       "      <td>1.08810</td>\n",
       "      <td>1.09540</td>\n",
       "    </tr>\n",
       "    <tr>\n",
       "      <th>2023-04-05</th>\n",
       "      <td>1.09549</td>\n",
       "      <td>1.09696</td>\n",
       "      <td>1.08900</td>\n",
       "      <td>1.09057</td>\n",
       "    </tr>\n",
       "    <tr>\n",
       "      <th>2023-04-06</th>\n",
       "      <td>1.09048</td>\n",
       "      <td>1.09173</td>\n",
       "      <td>1.08830</td>\n",
       "      <td>1.09020</td>\n",
       "    </tr>\n",
       "  </tbody>\n",
       "</table>\n",
       "<p>5000 rows × 4 columns</p>\n",
       "</div>"
      ],
      "text/plain": [
       "               open     high      low    close\n",
       "2004-02-06  1.25390  1.27240  1.25390  1.27040\n",
       "2004-02-09  1.26760  1.27610  1.26150  1.26960\n",
       "2004-02-10  1.26830  1.27880  1.26630  1.26800\n",
       "2004-02-11  1.27030  1.28340  1.26460  1.28250\n",
       "2004-02-12  1.28100  1.28460  1.27830  1.28030\n",
       "...             ...      ...      ...      ...\n",
       "2023-03-31  1.09042  1.09257  1.08350  1.08381\n",
       "2023-04-03  1.08418  1.09166  1.07870  1.09006\n",
       "2023-04-04  1.09011  1.09733  1.08810  1.09540\n",
       "2023-04-05  1.09549  1.09696  1.08900  1.09057\n",
       "2023-04-06  1.09048  1.09173  1.08830  1.09020\n",
       "\n",
       "[5000 rows x 4 columns]"
      ]
     },
     "execution_count": 73,
     "metadata": {},
     "output_type": "execute_result"
    }
   ],
   "source": [
    "with requests.Session() as s:\n",
    "    download = s.get(API_URL_PRICE_DAILY)\n",
    "    df_price = pd.DataFrame(download.json()['Time Series FX (Daily)']).T\n",
    "    df_price.columns = [i.split()[1] for i in df_price.columns.values]\n",
    "    df_price.sort_index(inplace=True)\n",
    "df_price.to_csv(f\"data/APLHAVANTAGE_EURUSD.csv\")\n",
    "df_price"
   ]
  },
  {
   "cell_type": "code",
   "execution_count": 81,
   "id": "7ddc5a18",
   "metadata": {},
   "outputs": [],
   "source": [
    "dates = df_price.index.values\n",
    "dates_for_news = [i.replace('-','')+'T2350' for i in dates]"
   ]
  },
  {
   "cell_type": "code",
   "execution_count": null,
   "id": "871fd07f",
   "metadata": {},
   "outputs": [],
   "source": [
    "API_URL_NEWS = f\"https://www.alphavantage.co/query?function=NEWS_SENTIMENT&tickers=FOREX:EUR&time_from=20220310T0130&time_to=20220410T0130&apikey={APIKEY}\"\n"
   ]
  }
 ],
 "metadata": {
  "kernelspec": {
   "display_name": "Python 3 (ipykernel)",
   "language": "python",
   "name": "python3"
  },
  "language_info": {
   "codemirror_mode": {
    "name": "ipython",
    "version": 3
   },
   "file_extension": ".py",
   "mimetype": "text/x-python",
   "name": "python",
   "nbconvert_exporter": "python",
   "pygments_lexer": "ipython3",
   "version": "3.10.10"
  }
 },
 "nbformat": 4,
 "nbformat_minor": 5
}
