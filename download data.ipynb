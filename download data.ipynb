{
 "cells": [
  {
   "cell_type": "code",
   "execution_count": 25,
   "id": "6d0edc83",
   "metadata": {},
   "outputs": [],
   "source": [
    "import pandas as pd\n",
    "import requests\n",
    "from datetime import datetime, date"
   ]
  },
  {
   "cell_type": "code",
   "execution_count": 3,
   "id": "4412fb14",
   "metadata": {},
   "outputs": [],
   "source": [
    "APIKEY = None\n",
    "with open('apikey.txt', 'r') as _apikey:\n",
    "    APIKEY = _apikey.read()\n",
    "    _apikey.close()"
   ]
  },
  {
   "attachments": {},
   "cell_type": "markdown",
   "id": "3b28708d",
   "metadata": {},
   "source": [
    "https://www.alphavantage.co/documentation/\n",
    "\n",
    "Example: \n",
    "\n",
    "https://www.alphavantage.co/query?function=NEWS_SENTIMENT&tickers=FOREX:EUR&time_from=20220310T0130&time_to=20220410T0130&limit=100&apikey=\n",
    "\n",
    "https://www.alphavantage.co/query?function=NEWS_SENTIMENT&tickers=FOREX:EUR&time_from=20220310T0130&time_to=20220510T0130&topics=finacail_market,earnings&limit=10&apikey="
   ]
  },
  {
   "cell_type": "code",
   "execution_count": 4,
   "id": "af45b2a6",
   "metadata": {},
   "outputs": [],
   "source": [
    "API_URL_PRICE_DAILY = f\"https://www.alphavantage.co/query?function=FX_DAILY&from_symbol=EUR&to_symbol=USD&outputsize=full&apikey={APIKEY}\""
   ]
  },
  {
   "cell_type": "code",
   "execution_count": 6,
   "id": "d6c02af6",
   "metadata": {},
   "outputs": [
    {
     "data": {
      "text/html": [
       "<div>\n",
       "<style scoped>\n",
       "    .dataframe tbody tr th:only-of-type {\n",
       "        vertical-align: middle;\n",
       "    }\n",
       "\n",
       "    .dataframe tbody tr th {\n",
       "        vertical-align: top;\n",
       "    }\n",
       "\n",
       "    .dataframe thead th {\n",
       "        text-align: right;\n",
       "    }\n",
       "</style>\n",
       "<table border=\"1\" class=\"dataframe\">\n",
       "  <thead>\n",
       "    <tr style=\"text-align: right;\">\n",
       "      <th></th>\n",
       "      <th>open</th>\n",
       "      <th>high</th>\n",
       "      <th>low</th>\n",
       "      <th>close</th>\n",
       "    </tr>\n",
       "  </thead>\n",
       "  <tbody>\n",
       "    <tr>\n",
       "      <th>2004-04-02</th>\n",
       "      <td>1.23460</td>\n",
       "      <td>1.23710</td>\n",
       "      <td>1.21300</td>\n",
       "      <td>1.21300</td>\n",
       "    </tr>\n",
       "    <tr>\n",
       "      <th>2004-04-05</th>\n",
       "      <td>1.21210</td>\n",
       "      <td>1.21300</td>\n",
       "      <td>1.19790</td>\n",
       "      <td>1.19990</td>\n",
       "    </tr>\n",
       "    <tr>\n",
       "      <th>2004-04-06</th>\n",
       "      <td>1.20190</td>\n",
       "      <td>1.21410</td>\n",
       "      <td>1.19790</td>\n",
       "      <td>1.21340</td>\n",
       "    </tr>\n",
       "    <tr>\n",
       "      <th>2004-04-07</th>\n",
       "      <td>1.20860</td>\n",
       "      <td>1.21940</td>\n",
       "      <td>1.20440</td>\n",
       "      <td>1.21650</td>\n",
       "    </tr>\n",
       "    <tr>\n",
       "      <th>2004-04-08</th>\n",
       "      <td>1.21720</td>\n",
       "      <td>1.22210</td>\n",
       "      <td>1.20570</td>\n",
       "      <td>1.20790</td>\n",
       "    </tr>\n",
       "    <tr>\n",
       "      <th>...</th>\n",
       "      <td>...</td>\n",
       "      <td>...</td>\n",
       "      <td>...</td>\n",
       "      <td>...</td>\n",
       "    </tr>\n",
       "    <tr>\n",
       "      <th>2023-05-26</th>\n",
       "      <td>1.07278</td>\n",
       "      <td>1.07586</td>\n",
       "      <td>1.07000</td>\n",
       "      <td>1.07250</td>\n",
       "    </tr>\n",
       "    <tr>\n",
       "      <th>2023-05-29</th>\n",
       "      <td>1.07210</td>\n",
       "      <td>1.07435</td>\n",
       "      <td>1.07040</td>\n",
       "      <td>1.07088</td>\n",
       "    </tr>\n",
       "    <tr>\n",
       "      <th>2023-05-30</th>\n",
       "      <td>1.07088</td>\n",
       "      <td>1.07466</td>\n",
       "      <td>1.06710</td>\n",
       "      <td>1.07325</td>\n",
       "    </tr>\n",
       "    <tr>\n",
       "      <th>2023-05-31</th>\n",
       "      <td>1.07319</td>\n",
       "      <td>1.07360</td>\n",
       "      <td>1.06340</td>\n",
       "      <td>1.06856</td>\n",
       "    </tr>\n",
       "    <tr>\n",
       "      <th>2023-06-01</th>\n",
       "      <td>1.06935</td>\n",
       "      <td>1.06952</td>\n",
       "      <td>1.06610</td>\n",
       "      <td>1.06811</td>\n",
       "    </tr>\n",
       "  </tbody>\n",
       "</table>\n",
       "<p>5000 rows × 4 columns</p>\n",
       "</div>"
      ],
      "text/plain": [
       "               open     high      low    close\n",
       "2004-04-02  1.23460  1.23710  1.21300  1.21300\n",
       "2004-04-05  1.21210  1.21300  1.19790  1.19990\n",
       "2004-04-06  1.20190  1.21410  1.19790  1.21340\n",
       "2004-04-07  1.20860  1.21940  1.20440  1.21650\n",
       "2004-04-08  1.21720  1.22210  1.20570  1.20790\n",
       "...             ...      ...      ...      ...\n",
       "2023-05-26  1.07278  1.07586  1.07000  1.07250\n",
       "2023-05-29  1.07210  1.07435  1.07040  1.07088\n",
       "2023-05-30  1.07088  1.07466  1.06710  1.07325\n",
       "2023-05-31  1.07319  1.07360  1.06340  1.06856\n",
       "2023-06-01  1.06935  1.06952  1.06610  1.06811\n",
       "\n",
       "[5000 rows x 4 columns]"
      ]
     },
     "execution_count": 6,
     "metadata": {},
     "output_type": "execute_result"
    }
   ],
   "source": [
    "with requests.Session() as s:\n",
    "    download = s.get(API_URL_PRICE_DAILY)\n",
    "    df_price = pd.DataFrame(download.json()['Time Series FX (Daily)']).T\n",
    "    df_price.columns = [i.split()[1] for i in df_price.columns.values]\n",
    "    df_price.sort_index(inplace=True)\n",
    "df_price.to_csv(f\"data/APLHAVANTAGE_EURUSD.csv\")\n",
    "df_price"
   ]
  },
  {
   "cell_type": "code",
   "execution_count": 7,
   "id": "7ddc5a18",
   "metadata": {},
   "outputs": [],
   "source": [
    "dates = df_price.index.values\n",
    "dates_for_news = [i.replace('-','')+'T2350' for i in dates]"
   ]
  },
  {
   "cell_type": "code",
   "execution_count": 45,
   "id": "871fd07f",
   "metadata": {},
   "outputs": [],
   "source": [
    "link = \"https://www.alphavantage.co/query?\"\n",
    "func = \"function=NEWS_SENTIMENT\"\n",
    "tickers=\"tickers=FOREX:EUR\"\n",
    "tickers=\"tickers=AAPL\"\n",
    "time_from = \"time_from=20220310T0130\" \n",
    "time_to = \"time_to=20220410T0130\"\n",
    "url_apikey = \"apikey={APIKEY}\"\n",
    "\n",
    "API_URL_NEWS = f\"https://www.alphavantage.co/query?function=NEWS_SENTIMENT&tickers=FOREX:EUR&time_from=20220310T0130&time_to=20220410T0130&apikey={APIKEY}\"\n",
    "API_URL_NEWS = f\"https://www.alphavantage.co/query?function=NEWS_SENTIMENT&tickers=AAPL&time_from=20220310T0130&time_to=20220410T0130&apikey={APIKEY}\"\n"
   ]
  },
  {
   "cell_type": "code",
   "execution_count": 46,
   "id": "02e74a18",
   "metadata": {},
   "outputs": [],
   "source": [
    "def parse_news_data(_urlNews: str):\n",
    "    with requests.Session() as s:\n",
    "        download = s.get(_urlNews)\n",
    "        df_news = pd.json_normalize(download.json()['feed'])\n",
    "        # df_news['authors_clear'] = df_news.apply(lambda x: x.authors, axis=1)\n",
    "    return df_news"
   ]
  },
  {
   "cell_type": "code",
   "execution_count": 49,
   "id": "8c916cf8",
   "metadata": {},
   "outputs": [],
   "source": [
    "df = parse_news_data(API_URL_NEWS)"
   ]
  },
  {
   "cell_type": "code",
   "execution_count": 73,
   "id": "fa6017e8",
   "metadata": {},
   "outputs": [
    {
     "data": {
      "text/html": [
       "<div>\n",
       "<style scoped>\n",
       "    .dataframe tbody tr th:only-of-type {\n",
       "        vertical-align: middle;\n",
       "    }\n",
       "\n",
       "    .dataframe tbody tr th {\n",
       "        vertical-align: top;\n",
       "    }\n",
       "\n",
       "    .dataframe thead th {\n",
       "        text-align: right;\n",
       "    }\n",
       "</style>\n",
       "<table border=\"1\" class=\"dataframe\">\n",
       "  <thead>\n",
       "    <tr style=\"text-align: right;\">\n",
       "      <th></th>\n",
       "      <th>title</th>\n",
       "      <th>url</th>\n",
       "      <th>time_published</th>\n",
       "      <th>source_domain</th>\n",
       "    </tr>\n",
       "  </thead>\n",
       "  <tbody>\n",
       "    <tr>\n",
       "      <th>0</th>\n",
       "      <td>HP Stock Jumps As Warren Buffett Stake Shows V...</td>\n",
       "      <td>https://www.investors.com/news/technology/hpq-...</td>\n",
       "      <td>2022-04-07 16:28:00</td>\n",
       "      <td>www.investors.com</td>\n",
       "    </tr>\n",
       "    <tr>\n",
       "      <th>1</th>\n",
       "      <td>Google In 1996, Apple In 2010: What Does The 1...</td>\n",
       "      <td>https://www.benzinga.com/markets/cryptocurrenc...</td>\n",
       "      <td>2022-04-07 17:28:06</td>\n",
       "      <td>www.benzinga.com</td>\n",
       "    </tr>\n",
       "    <tr>\n",
       "      <th>2</th>\n",
       "      <td>Google In 1996, Apple In 2010: What Does The 1...</td>\n",
       "      <td>https://www.benzinga.com/node/26511633</td>\n",
       "      <td>2022-04-07 17:28:06</td>\n",
       "      <td>www.benzinga.com</td>\n",
       "    </tr>\n",
       "    <tr>\n",
       "      <th>3</th>\n",
       "      <td>Here's Why Warren Buffett Bought HPQ Stock</td>\n",
       "      <td>https://www.kiplinger.com/investing/stocks/604...</td>\n",
       "      <td>2022-04-07 18:19:30</td>\n",
       "      <td>www.kiplinger.com</td>\n",
       "    </tr>\n",
       "    <tr>\n",
       "      <th>4</th>\n",
       "      <td>10 Stocks That Moved From Thursday's CNBC's 'F...</td>\n",
       "      <td>https://www.benzinga.com/trading-ideas/movers/...</td>\n",
       "      <td>2022-04-07 18:42:22</td>\n",
       "      <td>www.benzinga.com</td>\n",
       "    </tr>\n",
       "  </tbody>\n",
       "</table>\n",
       "</div>"
      ],
      "text/plain": [
       "                                               title   \n",
       "0  HP Stock Jumps As Warren Buffett Stake Shows V...  \\\n",
       "1  Google In 1996, Apple In 2010: What Does The 1...   \n",
       "2  Google In 1996, Apple In 2010: What Does The 1...   \n",
       "3         Here's Why Warren Buffett Bought HPQ Stock   \n",
       "4  10 Stocks That Moved From Thursday's CNBC's 'F...   \n",
       "\n",
       "                                                 url      time_published   \n",
       "0  https://www.investors.com/news/technology/hpq-... 2022-04-07 16:28:00  \\\n",
       "1  https://www.benzinga.com/markets/cryptocurrenc... 2022-04-07 17:28:06   \n",
       "2             https://www.benzinga.com/node/26511633 2022-04-07 17:28:06   \n",
       "3  https://www.kiplinger.com/investing/stocks/604... 2022-04-07 18:19:30   \n",
       "4  https://www.benzinga.com/trading-ideas/movers/... 2022-04-07 18:42:22   \n",
       "\n",
       "       source_domain  \n",
       "0  www.investors.com  \n",
       "1   www.benzinga.com  \n",
       "2   www.benzinga.com  \n",
       "3  www.kiplinger.com  \n",
       "4   www.benzinga.com  "
      ]
     },
     "execution_count": 73,
     "metadata": {},
     "output_type": "execute_result"
    }
   ],
   "source": [
    "df_short = df[['title', 'url', 'time_published', 'source_domain']].copy()\n",
    "df_short['time_published'] = df_short['time_published'].apply(lambda x: datetime.strptime(x, '%Y%m%dT%H%M%S'))\n",
    "df_short.sort_values(by='time_published', ascending=True, inplace=True)\n",
    "df_short.reset_index(inplace=True, drop=True)\n",
    "df_short.head()"
   ]
  },
  {
   "cell_type": "code",
   "execution_count": 84,
   "id": "b346b9bb",
   "metadata": {},
   "outputs": [
    {
     "data": {
      "text/plain": [
       "array(['www.investors.com', 'www.benzinga.com', 'www.kiplinger.com',\n",
       "       'www.thestreet.com', 'stockmarket.com', 'www.forbes.com',\n",
       "       'www.zacks.com', 'www.business-standard.com', 'www.reuters.com',\n",
       "       'www.marketwatch.com', 'stocknews.com', 'www.fool.com',\n",
       "       'www.barrons.com', 'www.moneycontrol.com',\n",
       "       'markets.businessinsider.com'], dtype=object)"
      ]
     },
     "execution_count": 84,
     "metadata": {},
     "output_type": "execute_result"
    }
   ],
   "source": [
    "df_short.source_domain.unique()"
   ]
  },
  {
   "cell_type": "code",
   "execution_count": 81,
   "id": "1852b8e9",
   "metadata": {},
   "outputs": [
    {
     "data": {
      "text/plain": [
       "'https://www.kiplinger.com/investing/stocks/604520/heres-why-warren-buffett-bought-hpq-stock'"
      ]
     },
     "execution_count": 81,
     "metadata": {},
     "output_type": "execute_result"
    }
   ],
   "source": [
    "test_url = df_short.url[3]\n",
    "test_url"
   ]
  },
  {
   "cell_type": "code",
   "execution_count": null,
   "id": "1a7635fb",
   "metadata": {},
   "outputs": [],
   "source": []
  }
 ],
 "metadata": {
  "kernelspec": {
   "display_name": "Python 3 (ipykernel)",
   "language": "python",
   "name": "python3"
  },
  "language_info": {
   "codemirror_mode": {
    "name": "ipython",
    "version": 3
   },
   "file_extension": ".py",
   "mimetype": "text/x-python",
   "name": "python",
   "nbconvert_exporter": "python",
   "pygments_lexer": "ipython3",
   "version": "3.10.11"
  }
 },
 "nbformat": 4,
 "nbformat_minor": 5
}
