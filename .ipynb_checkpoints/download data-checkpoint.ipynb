{
 "cells": [
  {
   "cell_type": "code",
   "execution_count": 4,
   "id": "e2aa5300",
   "metadata": {},
   "outputs": [],
   "source": [
    "import pandas as pd\n",
    "import requests\n",
    "import csv\n",
    "import time"
   ]
  },
  {
   "cell_type": "code",
   "execution_count": 9,
   "id": "fd17e3bd",
   "metadata": {},
   "outputs": [],
   "source": [
    "APIKEY = None\n",
    "with open('apikey.txt', 'r') as _apikey:\n",
    "    APIKEY = _apikey.read()"
   ]
  },
  {
   "cell_type": "code",
   "execution_count": 13,
   "id": "66882ae2",
   "metadata": {},
   "outputs": [],
   "source": [
    "link = 'https://www.alphavantage.co/query?'\n",
    "func_ts = 'function=TIME_SERIES_INTRADAY_EXTENDED'\n",
    "func_news = 'function=NEWS_SENTIMENT'\n",
    "symbol = 'symbol=EURUSD'\n",
    "interval='interval=60min'\n",
    "#https://www.alphavantage.co/query?function=NEWS_SENTIMENT&from_symbol=EUR&to_symbol=USD&outputsize=full&apikey=104NFNEMPQ6Q3XL9"
   ]
  },
  {
   "cell_type": "code",
   "execution_count": 19,
   "id": "95780427",
   "metadata": {},
   "outputs": [
    {
     "name": "stdout",
     "output_type": "stream",
     "text": [
      "https://www.alphavantage.co/query?&function=TIME_SERIES_INTRADAY_EXTENDED&symbol=EURUSD&interval=60min&slice=year1month1&apikey=104NFNEMPQ6Q3XL9\n"
     ]
    }
   ],
   "source": [
    "df = pd.DataFrame()\n",
    "period = f'slice=year{1}month{1}'\n",
    "API_URL_TS = link+\"&\"+func_ts+\"&\"+symbol+\"&\"+interval+\"&\"+period+\"&\"+f'apikey={APIKEY}'\n",
    "API_URL_NEWS = link+\"&\"+func_news+\"&\"+symbol+\"&\"+interval+\"&\"+period+\"&\"+f'apikey={APIKEY}'\n",
    "print(API_URL_TS)"
   ]
  },
  {
   "cell_type": "code",
   "execution_count": 20,
   "id": "a34055cb",
   "metadata": {},
   "outputs": [
    {
     "name": "stdout",
     "output_type": "stream",
     "text": [
      "the status code is:200 for slice=year1month1\n"
     ]
    }
   ],
   "source": [
    "with requests.Session() as s:\n",
    "    download = s.get(API_URL_TS)\n",
    "    print(f\"the status code is:{download.status_code} for {period}\")\n",
    "    decoded_content = download.content.decode('utf-8')\n",
    "    cr = csv.reader(decoded_content.splitlines(), delimiter=',')\n",
    "    my_list = list(cr)\n",
    "    temp_df = pd.DataFrame(my_list)\n",
    "    temp_df = temp_df.iloc[1:]\n",
    "    df = pd.concat([df, temp_df])"
   ]
  },
  {
   "cell_type": "code",
   "execution_count": 21,
   "id": "e4bfa285",
   "metadata": {},
   "outputs": [
    {
     "data": {
      "text/html": [
       "<div>\n",
       "<style scoped>\n",
       "    .dataframe tbody tr th:only-of-type {\n",
       "        vertical-align: middle;\n",
       "    }\n",
       "\n",
       "    .dataframe tbody tr th {\n",
       "        vertical-align: top;\n",
       "    }\n",
       "\n",
       "    .dataframe thead th {\n",
       "        text-align: right;\n",
       "    }\n",
       "</style>\n",
       "<table border=\"1\" class=\"dataframe\">\n",
       "  <thead>\n",
       "    <tr style=\"text-align: right;\">\n",
       "      <th></th>\n",
       "      <th>0</th>\n",
       "      <th>1</th>\n",
       "      <th>2</th>\n",
       "      <th>3</th>\n",
       "      <th>4</th>\n",
       "      <th>5</th>\n",
       "    </tr>\n",
       "  </thead>\n",
       "  <tbody>\n",
       "  </tbody>\n",
       "</table>\n",
       "</div>"
      ],
      "text/plain": [
       "Empty DataFrame\n",
       "Columns: [0, 1, 2, 3, 4, 5]\n",
       "Index: []"
      ]
     },
     "execution_count": 21,
     "metadata": {},
     "output_type": "execute_result"
    }
   ],
   "source": [
    "df"
   ]
  },
  {
   "cell_type": "code",
   "execution_count": null,
   "id": "d97f5a90",
   "metadata": {},
   "outputs": [],
   "source": []
  }
 ],
 "metadata": {
  "kernelspec": {
   "display_name": "Python 3 (ipykernel)",
   "language": "python",
   "name": "python3"
  },
  "language_info": {
   "codemirror_mode": {
    "name": "ipython",
    "version": 3
   },
   "file_extension": ".py",
   "mimetype": "text/x-python",
   "name": "python",
   "nbconvert_exporter": "python",
   "pygments_lexer": "ipython3",
   "version": "3.10.9"
  }
 },
 "nbformat": 4,
 "nbformat_minor": 5
}
