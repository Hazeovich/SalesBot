{
 "cells": [
  {
   "cell_type": "code",
   "execution_count": 1,
   "id": "036cad07",
   "metadata": {},
   "outputs": [],
   "source": [
    "%matplotlib inline\n",
    "import pandas as pd\n",
    "import matplotlib.pyplot as plt\n",
    "from zigzag import *\n",
    "import datetime"
   ]
  },
  {
   "cell_type": "code",
   "execution_count": 2,
   "id": "aa164d8f",
   "metadata": {},
   "outputs": [
    {
     "data": {
      "text/html": [
       "<div>\n",
       "<style scoped>\n",
       "    .dataframe tbody tr th:only-of-type {\n",
       "        vertical-align: middle;\n",
       "    }\n",
       "\n",
       "    .dataframe tbody tr th {\n",
       "        vertical-align: top;\n",
       "    }\n",
       "\n",
       "    .dataframe thead th {\n",
       "        text-align: right;\n",
       "    }\n",
       "</style>\n",
       "<table border=\"1\" class=\"dataframe\">\n",
       "  <thead>\n",
       "    <tr style=\"text-align: right;\">\n",
       "      <th></th>\n",
       "      <th>ticker</th>\n",
       "      <th>per</th>\n",
       "      <th>datetime</th>\n",
       "      <th>open</th>\n",
       "      <th>hight</th>\n",
       "      <th>low</th>\n",
       "      <th>close</th>\n",
       "      <th>volume</th>\n",
       "    </tr>\n",
       "  </thead>\n",
       "  <tbody>\n",
       "    <tr>\n",
       "      <th>0</th>\n",
       "      <td>SPFB.ED</td>\n",
       "      <td>1</td>\n",
       "      <td>2009-06-15 19:52:00</td>\n",
       "      <td>1.3773</td>\n",
       "      <td>1.3773</td>\n",
       "      <td>1.3772</td>\n",
       "      <td>1.3772</td>\n",
       "      <td>4</td>\n",
       "    </tr>\n",
       "    <tr>\n",
       "      <th>1</th>\n",
       "      <td>SPFB.ED</td>\n",
       "      <td>1</td>\n",
       "      <td>2009-06-15 19:53:00</td>\n",
       "      <td>1.3766</td>\n",
       "      <td>1.3766</td>\n",
       "      <td>1.3760</td>\n",
       "      <td>1.3763</td>\n",
       "      <td>257</td>\n",
       "    </tr>\n",
       "    <tr>\n",
       "      <th>2</th>\n",
       "      <td>SPFB.ED</td>\n",
       "      <td>1</td>\n",
       "      <td>2009-06-15 19:56:00</td>\n",
       "      <td>1.3770</td>\n",
       "      <td>1.3770</td>\n",
       "      <td>1.3770</td>\n",
       "      <td>1.3770</td>\n",
       "      <td>100</td>\n",
       "    </tr>\n",
       "    <tr>\n",
       "      <th>3</th>\n",
       "      <td>SPFB.ED</td>\n",
       "      <td>1</td>\n",
       "      <td>2009-06-15 19:58:00</td>\n",
       "      <td>1.3769</td>\n",
       "      <td>1.3773</td>\n",
       "      <td>1.3769</td>\n",
       "      <td>1.3773</td>\n",
       "      <td>101</td>\n",
       "    </tr>\n",
       "    <tr>\n",
       "      <th>4</th>\n",
       "      <td>SPFB.ED</td>\n",
       "      <td>1</td>\n",
       "      <td>2009-06-15 20:00:00</td>\n",
       "      <td>1.3769</td>\n",
       "      <td>1.3769</td>\n",
       "      <td>1.3769</td>\n",
       "      <td>1.3769</td>\n",
       "      <td>6</td>\n",
       "    </tr>\n",
       "  </tbody>\n",
       "</table>\n",
       "</div>"
      ],
      "text/plain": [
       "    ticker  per            datetime    open   hight     low   close  volume\n",
       "0  SPFB.ED    1 2009-06-15 19:52:00  1.3773  1.3773  1.3772  1.3772       4\n",
       "1  SPFB.ED    1 2009-06-15 19:53:00  1.3766  1.3766  1.3760  1.3763     257\n",
       "2  SPFB.ED    1 2009-06-15 19:56:00  1.3770  1.3770  1.3770  1.3770     100\n",
       "3  SPFB.ED    1 2009-06-15 19:58:00  1.3769  1.3773  1.3769  1.3773     101\n",
       "4  SPFB.ED    1 2009-06-15 20:00:00  1.3769  1.3769  1.3769  1.3769       6"
      ]
     },
     "execution_count": 2,
     "metadata": {},
     "output_type": "execute_result"
    }
   ],
   "source": [
    "df = pd.read_csv('data\\EURUSD.csv').iloc[:, 1:]\n",
    "df['datetime'] = pd.to_datetime(df.loc[:,df.columns[2]])\n",
    "df.head()"
   ]
  },
  {
   "cell_type": "code",
   "execution_count": 3,
   "id": "c3a54b2f",
   "metadata": {},
   "outputs": [
    {
     "data": {
      "text/html": [
       "<div>\n",
       "<style scoped>\n",
       "    .dataframe tbody tr th:only-of-type {\n",
       "        vertical-align: middle;\n",
       "    }\n",
       "\n",
       "    .dataframe tbody tr th {\n",
       "        vertical-align: top;\n",
       "    }\n",
       "\n",
       "    .dataframe thead th {\n",
       "        text-align: right;\n",
       "    }\n",
       "</style>\n",
       "<table border=\"1\" class=\"dataframe\">\n",
       "  <thead>\n",
       "    <tr style=\"text-align: right;\">\n",
       "      <th></th>\n",
       "      <th>close</th>\n",
       "    </tr>\n",
       "    <tr>\n",
       "      <th>datetime</th>\n",
       "      <th></th>\n",
       "    </tr>\n",
       "  </thead>\n",
       "  <tbody>\n",
       "    <tr>\n",
       "      <th>2009-06-15 19:52:00</th>\n",
       "      <td>1.3772</td>\n",
       "    </tr>\n",
       "    <tr>\n",
       "      <th>2009-06-15 19:53:00</th>\n",
       "      <td>1.3763</td>\n",
       "    </tr>\n",
       "    <tr>\n",
       "      <th>2009-06-15 19:56:00</th>\n",
       "      <td>1.3770</td>\n",
       "    </tr>\n",
       "    <tr>\n",
       "      <th>2009-06-15 19:58:00</th>\n",
       "      <td>1.3773</td>\n",
       "    </tr>\n",
       "    <tr>\n",
       "      <th>2009-06-15 20:00:00</th>\n",
       "      <td>1.3769</td>\n",
       "    </tr>\n",
       "  </tbody>\n",
       "</table>\n",
       "</div>"
      ],
      "text/plain": [
       "                      close\n",
       "datetime                   \n",
       "2009-06-15 19:52:00  1.3772\n",
       "2009-06-15 19:53:00  1.3763\n",
       "2009-06-15 19:56:00  1.3770\n",
       "2009-06-15 19:58:00  1.3773\n",
       "2009-06-15 20:00:00  1.3769"
      ]
     },
     "execution_count": 3,
     "metadata": {},
     "output_type": "execute_result"
    }
   ],
   "source": [
    "df_new = df[['datetime', 'close']]\n",
    "df_new.set_index(df_new.columns[0], inplace=True)\n",
    "df_new.head()"
   ]
  },
  {
   "cell_type": "code",
   "execution_count": 4,
   "id": "b4c87a03",
   "metadata": {},
   "outputs": [],
   "source": [
    "def showPlot(low_lim, high_lim, asset = pd.DataFrame()):    \n",
    "    col = asset.columns.values\n",
    "    fig, ax = plt.subplots(figsize=(20, 10))\n",
    "    \n",
    "    indicator_asset = asset[asset[col[1]] != 0]\n",
    "    \n",
    "    ax.plot(asset[col[0]], color='red', linewidth = 1)\n",
    "    ax.plot(indicator_asset[col[0]], linewidth = 2, linestyle = '--')\n",
    "    \n",
    "    ax.set_xlim((low_lim, high_lim))\n",
    "    \n",
    "    asset_down = asset[asset[asset.columns[1]] == -1][asset.columns[0]]\n",
    "    asset_up = asset[asset[asset.columns[1]] == 1][asset.columns[0]]\n",
    "    \n",
    "    ax.scatter(asset_down.index, asset_down.values, color='r')\n",
    "    ax.scatter(asset_up.index, asset_up.values, color='g')"
   ]
  },
  {
   "cell_type": "code",
   "execution_count": 5,
   "id": "cc3159c8",
   "metadata": {},
   "outputs": [],
   "source": [
    "h = 0.0131\n",
    "indicators = peak_valley_pivots(df_new.close.values, h, -h)\n",
    "df_indic = df_new.assign(indicator = indicators)"
   ]
  },
  {
   "cell_type": "code",
   "execution_count": null,
   "id": "a050b8ea",
   "metadata": {},
   "outputs": [],
   "source": []
  },
  {
   "cell_type": "code",
   "execution_count": 6,
   "id": "f971e368",
   "metadata": {},
   "outputs": [
    {
     "data": {
      "application/vnd.jupyter.widget-view+json": {
       "model_id": "4e02b74ac04048c6884e8392092a3d54",
       "version_major": 2,
       "version_minor": 0
      },
      "text/plain": [
       "interactive(children=(FloatSlider(value=0.05, description='h', max=0.1, min=0.0001, step=0.0001), DatePicker(v…"
      ]
     },
     "metadata": {},
     "output_type": "display_data"
    }
   ],
   "source": [
    "from ipywidgets import interact_manual\n",
    "from ipywidgets import widgets\n",
    "from IPython.display import clear_output\n",
    "from ipywidgets import interact\n",
    "@interact_manual(h=(0.0001, 0.1, 0.0001), \n",
    "                 start_date = widgets.DatePicker(value=(df_new.index[0].date() - datetime.timedelta(days=100))),\n",
    "                 end_date = widgets.DatePicker(value=(df_new.index[-1].date() + datetime.timedelta(days=100))))\n",
    "def plot_zigzag(h, start_date, end_date):\n",
    "    indicators = peak_valley_pivots(df_new.close.values, h, -h)\n",
    "    df_indic = df_new.assign(indicator = indicators)\n",
    "    showPlot(start_date, end_date, df_indic)\n",
    "    \n",
    "    print(df_indic.indicator[df_indic.indicator != 0].value_counts())\n",
    "    print(f\"h: {h}, total count pivots: {df_indic.indicator[df_indic.indicator != 0].shape[0]}\")\n",
    "    delta = end_date - start_date\n",
    "    print(f'Between {start_date} and {end_date} ==> {delta.days} days')"
   ]
  },
  {
   "cell_type": "code",
   "execution_count": null,
   "id": "237e20be",
   "metadata": {},
   "outputs": [],
   "source": []
  }
 ],
 "metadata": {
  "kernelspec": {
   "display_name": "Python 3 (ipykernel)",
   "language": "python",
   "name": "python3"
  },
  "language_info": {
   "codemirror_mode": {
    "name": "ipython",
    "version": 3
   },
   "file_extension": ".py",
   "mimetype": "text/x-python",
   "name": "python",
   "nbconvert_exporter": "python",
   "pygments_lexer": "ipython3",
   "version": "3.10.11"
  }
 },
 "nbformat": 4,
 "nbformat_minor": 5
}
